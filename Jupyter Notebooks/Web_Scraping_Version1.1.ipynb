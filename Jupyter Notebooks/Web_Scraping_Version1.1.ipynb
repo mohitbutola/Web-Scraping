{
  "nbformat": 4,
  "nbformat_minor": 0,
  "metadata": {
    "colab": {
      "name": "Web-Scraping.ipynb",
      "provenance": []
    },
    "kernelspec": {
      "name": "python3",
      "display_name": "Python 3"
    },
    "language_info": {
      "name": "python"
    }
  },
  "cells": [
    {
      "cell_type": "code",
      "metadata": {
        "id": "CfxXyKNtMtFO"
      },
      "source": [
        "from typing import Container\n",
        "import requests\n",
        "from bs4 import BeautifulSoup as bs\n",
        "import pandas as pd\n",
        "import numpy as np\n",
        "from time import sleep\n",
        "from random import randint"
      ],
      "execution_count": 1,
      "outputs": []
    },
    {
      "cell_type": "code",
      "metadata": {
        "id": "bKrZTk_1M8oN"
      },
      "source": [
        "URL1 = 'https://meitystartuphub.in/startups/startup-wall?search=&page='\n",
        "URL2 = '&domain=&location=&stage=&type='\n",
        "\n",
        "comp = []\n",
        "web = []\n",
        "\n",
        "page = 1\n",
        "\n",
        "req = requests.get(URL1 + str(page) + URL2)\n",
        "soup = bs(req.text, 'html.parser')"
      ],
      "execution_count": 51,
      "outputs": []
    },
    {
      "cell_type": "code",
      "metadata": {
        "id": "Kzs4HEnWVUMi"
      },
      "source": [
        "containers = soup.find_all('div', class_ = 'row w-100 col-12 mx-0 align-items-center body-row mb-2')\n",
        "\n",
        "for data in containers:\n",
        "  \n",
        "  name = data.find('div', class_ = 'col pl-0').text\n",
        "  comp.append(name)\n",
        "\n",
        "\n",
        "  \n",
        "  website = data.select('a') if data.select('a') else '**No website Found **'\n",
        "  try:\n",
        "    website = website[0].text\n",
        "  except:\n",
        "    website = \"No website found\"\n",
        "  web.append(website)\n",
        "\n",
        "comp_list = pd.DataFrame({\"Company Names \" : comp , \"Website Link  \" : web})"
      ],
      "execution_count": 59,
      "outputs": []
    },
    {
      "cell_type": "code",
      "metadata": {
        "colab": {
          "base_uri": "https://localhost:8080/",
          "height": 423
        },
        "id": "9PjPTfMkdeYG",
        "outputId": "3ff3daf6-c7ec-4ccc-9b72-4623325dde06"
      },
      "source": [
        "comp_list"
      ],
      "execution_count": 60,
      "outputs": [
        {
          "output_type": "execute_result",
          "data": {
            "text/html": [
              "<div>\n",
              "<style scoped>\n",
              "    .dataframe tbody tr th:only-of-type {\n",
              "        vertical-align: middle;\n",
              "    }\n",
              "\n",
              "    .dataframe tbody tr th {\n",
              "        vertical-align: top;\n",
              "    }\n",
              "\n",
              "    .dataframe thead th {\n",
              "        text-align: right;\n",
              "    }\n",
              "</style>\n",
              "<table border=\"1\" class=\"dataframe\">\n",
              "  <thead>\n",
              "    <tr style=\"text-align: right;\">\n",
              "      <th></th>\n",
              "      <th>Company Names</th>\n",
              "      <th>Website Link</th>\n",
              "    </tr>\n",
              "  </thead>\n",
              "  <tbody>\n",
              "    <tr>\n",
              "      <th>0</th>\n",
              "      <td>Cubical Laboratories Private Limited</td>\n",
              "      <td>www.cubical.in</td>\n",
              "    </tr>\n",
              "    <tr>\n",
              "      <th>1</th>\n",
              "      <td>Signzy Technologies Private Ltd.</td>\n",
              "      <td>www.signzy.com</td>\n",
              "    </tr>\n",
              "    <tr>\n",
              "      <th>2</th>\n",
              "      <td>PurpleBits Infosystems Pvt Ltd</td>\n",
              "      <td>www.purpledocs.com</td>\n",
              "    </tr>\n",
              "    <tr>\n",
              "      <th>3</th>\n",
              "      <td>Say-luss Medicare pvt ltd</td>\n",
              "      <td>www.saylussmedicare.com</td>\n",
              "    </tr>\n",
              "    <tr>\n",
              "      <th>4</th>\n",
              "      <td>Rabbit and Tortoise Technology Solutions</td>\n",
              "      <td>www.rnt.ai</td>\n",
              "    </tr>\n",
              "    <tr>\n",
              "      <th>...</th>\n",
              "      <td>...</td>\n",
              "      <td>...</td>\n",
              "    </tr>\n",
              "    <tr>\n",
              "      <th>75</th>\n",
              "      <td>NetObjex (India) Pvt. Ltd.</td>\n",
              "      <td>netobjex.com</td>\n",
              "    </tr>\n",
              "    <tr>\n",
              "      <th>76</th>\n",
              "      <td>Budi Srinivasa Rao</td>\n",
              "      <td>No website found</td>\n",
              "    </tr>\n",
              "    <tr>\n",
              "      <th>77</th>\n",
              "      <td>Budi parvathi</td>\n",
              "      <td>No website found</td>\n",
              "    </tr>\n",
              "    <tr>\n",
              "      <th>78</th>\n",
              "      <td>WiJungle</td>\n",
              "      <td>www.wijungle.com</td>\n",
              "    </tr>\n",
              "    <tr>\n",
              "      <th>79</th>\n",
              "      <td>Geo Climate Risk Solutions Pvt Ltd</td>\n",
              "      <td>gcrs.co.in/</td>\n",
              "    </tr>\n",
              "  </tbody>\n",
              "</table>\n",
              "<p>80 rows × 2 columns</p>\n",
              "</div>"
            ],
            "text/plain": [
              "                              Company Names            Website Link  \n",
              "0       Cubical Laboratories Private Limited           www.cubical.in\n",
              "1           Signzy Technologies Private Ltd.           www.signzy.com\n",
              "2             PurpleBits Infosystems Pvt Ltd       www.purpledocs.com\n",
              "3                  Say-luss Medicare pvt ltd  www.saylussmedicare.com\n",
              "4   Rabbit and Tortoise Technology Solutions               www.rnt.ai\n",
              "..                                       ...                      ...\n",
              "75                NetObjex (India) Pvt. Ltd.             netobjex.com\n",
              "76                        Budi Srinivasa Rao         No website found\n",
              "77                             Budi parvathi         No website found\n",
              "78                                  WiJungle         www.wijungle.com\n",
              "79        Geo Climate Risk Solutions Pvt Ltd              gcrs.co.in/\n",
              "\n",
              "[80 rows x 2 columns]"
            ]
          },
          "metadata": {},
          "execution_count": 60
        }
      ]
    },
    {
      "cell_type": "code",
      "metadata": {
        "id": "wS8P5F2FiCl7"
      },
      "source": [
        "comp_list.to_csv(\"List_of_Companies_and_Their_Website_Links.csv\")"
      ],
      "execution_count": 65,
      "outputs": []
    },
    {
      "cell_type": "code",
      "metadata": {
        "id": "uQngvMqOiWI2"
      },
      "source": [
        ""
      ],
      "execution_count": null,
      "outputs": []
    }
  ]
}