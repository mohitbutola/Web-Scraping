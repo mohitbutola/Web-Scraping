{
  "nbformat": 4,
  "nbformat_minor": 0,
  "metadata": {
    "colab": {
      "name": "Web-Scraping.ipynb",
      "provenance": []
    },
    "kernelspec": {
      "name": "python3",
      "display_name": "Python 3"
    },
    "language_info": {
      "name": "python"
    }
  },
  "cells": [
    {
      "cell_type": "code",
      "metadata": {
        "id": "CfxXyKNtMtFO"
      },
      "source": [
        "from typing import Container\n",
        "import requests\n",
        "from bs4 import BeautifulSoup as bs\n",
        "import pandas as pd\n",
        "import numpy as np\n",
        "from time import sleep\n",
        "from random import randint"
      ],
      "execution_count": 1,
      "outputs": []
    },
    {
      "cell_type": "code",
      "metadata": {
        "id": "bKrZTk_1M8oN"
      },
      "source": [
        "URL1 = 'https://meitystartuphub.in/startups/startup-wall?search=&page='\n",
        "URL2 = '&domain=&location=&stage=&type='\n",
        "\n",
        "comp = []\n",
        "web = []\n",
        "\n",
        "\n",
        "\n"
      ],
      "execution_count": 66,
      "outputs": []
    },
    {
      "cell_type": "code",
      "metadata": {
        "id": "Kzs4HEnWVUMi"
      },
      "source": [
        "for page in range(1,138):\n",
        "  req = requests.get(URL1 + str(page) + URL2)\n",
        "  soup = bs(req.text, 'html.parser')\n",
        "\n",
        "  containers = soup.find_all('div', class_ = 'row w-100 col-12 mx-0 align-items-center body-row mb-2')\n",
        "\n",
        "  for data in containers:\n",
        "    \n",
        "    name = data.find('div', class_ = 'col pl-0').text\n",
        "    comp.append(name)\n",
        "\n",
        "\n",
        "    \n",
        "    website = data.select('a') if data.select('a') else '**No website Found **'\n",
        "    try:\n",
        "      website = website[0].text\n",
        "    except:\n",
        "      website = \"No website found\"\n",
        "    web.append(website)\n",
        "\n",
        "  "
      ],
      "execution_count": 67,
      "outputs": []
    },
    {
      "cell_type": "code",
      "metadata": {
        "id": "3l38gPbZk1Ni"
      },
      "source": [
        "comp_list = pd.DataFrame({\"Company Names \" : comp , \"Website Link  \" : web})"
      ],
      "execution_count": 68,
      "outputs": []
    },
    {
      "cell_type": "code",
      "metadata": {
        "colab": {
          "base_uri": "https://localhost:8080/",
          "height": 423
        },
        "id": "9PjPTfMkdeYG",
        "outputId": "cb23db26-71b9-4b27-d791-deffc97de6a9"
      },
      "source": [
        "comp_list"
      ],
      "execution_count": 69,
      "outputs": [
        {
          "output_type": "execute_result",
          "data": {
            "text/html": [
              "<div>\n",
              "<style scoped>\n",
              "    .dataframe tbody tr th:only-of-type {\n",
              "        vertical-align: middle;\n",
              "    }\n",
              "\n",
              "    .dataframe tbody tr th {\n",
              "        vertical-align: top;\n",
              "    }\n",
              "\n",
              "    .dataframe thead th {\n",
              "        text-align: right;\n",
              "    }\n",
              "</style>\n",
              "<table border=\"1\" class=\"dataframe\">\n",
              "  <thead>\n",
              "    <tr style=\"text-align: right;\">\n",
              "      <th></th>\n",
              "      <th>Company Names</th>\n",
              "      <th>Website Link</th>\n",
              "    </tr>\n",
              "  </thead>\n",
              "  <tbody>\n",
              "    <tr>\n",
              "      <th>0</th>\n",
              "      <td>Cubical Laboratories Private Limited</td>\n",
              "      <td>www.cubical.in</td>\n",
              "    </tr>\n",
              "    <tr>\n",
              "      <th>1</th>\n",
              "      <td>Signzy Technologies Private Ltd.</td>\n",
              "      <td>www.signzy.com</td>\n",
              "    </tr>\n",
              "    <tr>\n",
              "      <th>2</th>\n",
              "      <td>PurpleBits Infosystems Pvt Ltd</td>\n",
              "      <td>www.purpledocs.com</td>\n",
              "    </tr>\n",
              "    <tr>\n",
              "      <th>3</th>\n",
              "      <td>Say-luss Medicare pvt ltd</td>\n",
              "      <td>www.saylussmedicare.com</td>\n",
              "    </tr>\n",
              "    <tr>\n",
              "      <th>4</th>\n",
              "      <td>Rabbit and Tortoise Technology Solutions</td>\n",
              "      <td>www.rnt.ai</td>\n",
              "    </tr>\n",
              "    <tr>\n",
              "      <th>...</th>\n",
              "      <td>...</td>\n",
              "      <td>...</td>\n",
              "    </tr>\n",
              "    <tr>\n",
              "      <th>2735</th>\n",
              "      <td>EL ELYON INSTITUTE</td>\n",
              "      <td>el-elyon-institute.ueniweb.com/</td>\n",
              "    </tr>\n",
              "    <tr>\n",
              "      <th>2736</th>\n",
              "      <td>Aiotize</td>\n",
              "      <td>www.aiotize.com/</td>\n",
              "    </tr>\n",
              "    <tr>\n",
              "      <th>2737</th>\n",
              "      <td>FirebirdVR</td>\n",
              "      <td>Read More</td>\n",
              "    </tr>\n",
              "    <tr>\n",
              "      <th>2738</th>\n",
              "      <td>Parking Hero</td>\n",
              "      <td>theparkinghero@gmail.com</td>\n",
              "    </tr>\n",
              "    <tr>\n",
              "      <th>2739</th>\n",
              "      <td>MITTAL &amp; ASSOCIATES</td>\n",
              "      <td>www.maaprofessional.in</td>\n",
              "    </tr>\n",
              "  </tbody>\n",
              "</table>\n",
              "<p>2740 rows × 2 columns</p>\n",
              "</div>"
            ],
            "text/plain": [
              "                                Company Names                    Website Link  \n",
              "0         Cubical Laboratories Private Limited                   www.cubical.in\n",
              "1             Signzy Technologies Private Ltd.                   www.signzy.com\n",
              "2               PurpleBits Infosystems Pvt Ltd               www.purpledocs.com\n",
              "3                    Say-luss Medicare pvt ltd          www.saylussmedicare.com\n",
              "4     Rabbit and Tortoise Technology Solutions                       www.rnt.ai\n",
              "...                                        ...                              ...\n",
              "2735                        EL ELYON INSTITUTE  el-elyon-institute.ueniweb.com/\n",
              "2736                                   Aiotize                 www.aiotize.com/\n",
              "2737                                FirebirdVR                       Read More \n",
              "2738                              Parking Hero         theparkinghero@gmail.com\n",
              "2739                       MITTAL & ASSOCIATES           www.maaprofessional.in\n",
              "\n",
              "[2740 rows x 2 columns]"
            ]
          },
          "metadata": {},
          "execution_count": 69
        }
      ]
    },
    {
      "cell_type": "code",
      "metadata": {
        "id": "wS8P5F2FiCl7"
      },
      "source": [
        "comp_list.to_csv(\"List_of_Companies_and_Their_Website_Links.csv\")"
      ],
      "execution_count": 71,
      "outputs": []
    },
    {
      "cell_type": "code",
      "metadata": {
        "id": "i5byvTiTlgRw"
      },
      "source": [
        ""
      ],
      "execution_count": null,
      "outputs": []
    }
  ]
}